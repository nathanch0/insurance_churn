{
 "cells": [
  {
   "cell_type": "code",
   "execution_count": 1,
   "metadata": {
    "collapsed": true
   },
   "outputs": [],
   "source": [
    "%matplotlib inline\n",
    "\n",
    "import numpy as np\n",
    "import pandas as pd\n",
    "from sklearn.linear_model import LogisticRegression\n",
    "from sklearn.ensemble import GradientBoostingClassifier\n",
    "from sklearn.model_selection import train_test_split, KFold\n",
    "from sklearn import metrics\n",
    "from pandas.tools.plotting import scatter_matrix\n",
    "import matplotlib.pyplot as plt\n",
    "\n",
    "plt.style.use('ggplot')"
   ]
  },
  {
   "cell_type": "code",
   "execution_count": 2,
   "metadata": {
    "collapsed": true
   },
   "outputs": [],
   "source": [
    "policy = pd.read_csv(\"policy.csv\")\n",
    "df = pd.read_csv('policy.csv')"
   ]
  },
  {
   "cell_type": "code",
   "execution_count": 3,
   "metadata": {},
   "outputs": [
    {
     "data": {
      "text/html": [
       "<div>\n",
       "<style>\n",
       "    .dataframe thead tr:only-child th {\n",
       "        text-align: right;\n",
       "    }\n",
       "\n",
       "    .dataframe thead th {\n",
       "        text-align: left;\n",
       "    }\n",
       "\n",
       "    .dataframe tbody tr th {\n",
       "        vertical-align: top;\n",
       "    }\n",
       "</style>\n",
       "<table border=\"1\" class=\"dataframe\">\n",
       "  <thead>\n",
       "    <tr style=\"text-align: right;\">\n",
       "      <th></th>\n",
       "      <th>PolicyId</th>\n",
       "      <th>EnrollDate</th>\n",
       "      <th>CancelDate</th>\n",
       "      <th>MonthlyPremium</th>\n",
       "    </tr>\n",
       "  </thead>\n",
       "  <tbody>\n",
       "    <tr>\n",
       "      <th>0</th>\n",
       "      <td>92597</td>\n",
       "      <td>2010-12-07</td>\n",
       "      <td>NaN</td>\n",
       "      <td>34.54</td>\n",
       "    </tr>\n",
       "    <tr>\n",
       "      <th>1</th>\n",
       "      <td>92808</td>\n",
       "      <td>2010-11-09</td>\n",
       "      <td>NaN</td>\n",
       "      <td>18.54</td>\n",
       "    </tr>\n",
       "    <tr>\n",
       "      <th>2</th>\n",
       "      <td>93090</td>\n",
       "      <td>2010-11-11</td>\n",
       "      <td>NaN</td>\n",
       "      <td>23.53</td>\n",
       "    </tr>\n",
       "    <tr>\n",
       "      <th>3</th>\n",
       "      <td>93122</td>\n",
       "      <td>2010-11-11</td>\n",
       "      <td>NaN</td>\n",
       "      <td>44.02</td>\n",
       "    </tr>\n",
       "    <tr>\n",
       "      <th>4</th>\n",
       "      <td>93133</td>\n",
       "      <td>2010-11-11</td>\n",
       "      <td>NaN</td>\n",
       "      <td>32.46</td>\n",
       "    </tr>\n",
       "  </tbody>\n",
       "</table>\n",
       "</div>"
      ],
      "text/plain": [
       "   PolicyId  EnrollDate CancelDate  MonthlyPremium\n",
       "0     92597  2010-12-07        NaN           34.54\n",
       "1     92808  2010-11-09        NaN           18.54\n",
       "2     93090  2010-11-11        NaN           23.53\n",
       "3     93122  2010-11-11        NaN           44.02\n",
       "4     93133  2010-11-11        NaN           32.46"
      ]
     },
     "execution_count": 3,
     "metadata": {},
     "output_type": "execute_result"
    }
   ],
   "source": [
    "policy.head()"
   ]
  },
  {
   "cell_type": "code",
   "execution_count": null,
   "metadata": {
    "collapsed": true
   },
   "outputs": [],
   "source": [
    "policy.info()"
   ]
  },
  {
   "cell_type": "code",
   "execution_count": 4,
   "metadata": {
    "collapsed": true,
    "scrolled": true
   },
   "outputs": [],
   "source": [
    "policy['EnrollDate'] = pd.to_datetime(policy['EnrollDate'])"
   ]
  },
  {
   "cell_type": "code",
   "execution_count": 5,
   "metadata": {
    "collapsed": true
   },
   "outputs": [],
   "source": [
    "policy['CancelDate'] = pd.to_datetime(policy['CancelDate'])"
   ]
  },
  {
   "cell_type": "code",
   "execution_count": 6,
   "metadata": {},
   "outputs": [
    {
     "data": {
      "text/html": [
       "<div>\n",
       "<style>\n",
       "    .dataframe thead tr:only-child th {\n",
       "        text-align: right;\n",
       "    }\n",
       "\n",
       "    .dataframe thead th {\n",
       "        text-align: left;\n",
       "    }\n",
       "\n",
       "    .dataframe tbody tr th {\n",
       "        vertical-align: top;\n",
       "    }\n",
       "</style>\n",
       "<table border=\"1\" class=\"dataframe\">\n",
       "  <thead>\n",
       "    <tr style=\"text-align: right;\">\n",
       "      <th></th>\n",
       "      <th>PolicyId</th>\n",
       "      <th>EnrollDate</th>\n",
       "      <th>CancelDate</th>\n",
       "      <th>MonthlyPremium</th>\n",
       "    </tr>\n",
       "  </thead>\n",
       "  <tbody>\n",
       "    <tr>\n",
       "      <th>0</th>\n",
       "      <td>92597</td>\n",
       "      <td>2010-12-07</td>\n",
       "      <td>NaT</td>\n",
       "      <td>34.54</td>\n",
       "    </tr>\n",
       "    <tr>\n",
       "      <th>1</th>\n",
       "      <td>92808</td>\n",
       "      <td>2010-11-09</td>\n",
       "      <td>NaT</td>\n",
       "      <td>18.54</td>\n",
       "    </tr>\n",
       "    <tr>\n",
       "      <th>2</th>\n",
       "      <td>93090</td>\n",
       "      <td>2010-11-11</td>\n",
       "      <td>NaT</td>\n",
       "      <td>23.53</td>\n",
       "    </tr>\n",
       "    <tr>\n",
       "      <th>3</th>\n",
       "      <td>93122</td>\n",
       "      <td>2010-11-11</td>\n",
       "      <td>NaT</td>\n",
       "      <td>44.02</td>\n",
       "    </tr>\n",
       "    <tr>\n",
       "      <th>4</th>\n",
       "      <td>93133</td>\n",
       "      <td>2010-11-11</td>\n",
       "      <td>NaT</td>\n",
       "      <td>32.46</td>\n",
       "    </tr>\n",
       "  </tbody>\n",
       "</table>\n",
       "</div>"
      ],
      "text/plain": [
       "   PolicyId EnrollDate CancelDate  MonthlyPremium\n",
       "0     92597 2010-12-07        NaT           34.54\n",
       "1     92808 2010-11-09        NaT           18.54\n",
       "2     93090 2010-11-11        NaT           23.53\n",
       "3     93122 2010-11-11        NaT           44.02\n",
       "4     93133 2010-11-11        NaT           32.46"
      ]
     },
     "execution_count": 6,
     "metadata": {},
     "output_type": "execute_result"
    }
   ],
   "source": [
    "policy.head()"
   ]
  },
  {
   "cell_type": "code",
   "execution_count": 7,
   "metadata": {
    "collapsed": true
   },
   "outputs": [],
   "source": [
    "policy['EnrollWeekday'] = policy['EnrollDate'].dt.dayofweek"
   ]
  },
  {
   "cell_type": "code",
   "execution_count": 8,
   "metadata": {
    "collapsed": true
   },
   "outputs": [],
   "source": [
    "policy['EnrollYear'] = policy['EnrollDate'].dt.year"
   ]
  },
  {
   "cell_type": "code",
   "execution_count": 9,
   "metadata": {
    "scrolled": true
   },
   "outputs": [
    {
     "data": {
      "text/html": [
       "<div>\n",
       "<style>\n",
       "    .dataframe thead tr:only-child th {\n",
       "        text-align: right;\n",
       "    }\n",
       "\n",
       "    .dataframe thead th {\n",
       "        text-align: left;\n",
       "    }\n",
       "\n",
       "    .dataframe tbody tr th {\n",
       "        vertical-align: top;\n",
       "    }\n",
       "</style>\n",
       "<table border=\"1\" class=\"dataframe\">\n",
       "  <thead>\n",
       "    <tr style=\"text-align: right;\">\n",
       "      <th></th>\n",
       "      <th>PolicyId</th>\n",
       "      <th>EnrollDate</th>\n",
       "      <th>CancelDate</th>\n",
       "      <th>MonthlyPremium</th>\n",
       "      <th>EnrollWeekday</th>\n",
       "      <th>EnrollYear</th>\n",
       "    </tr>\n",
       "  </thead>\n",
       "  <tbody>\n",
       "    <tr>\n",
       "      <th>0</th>\n",
       "      <td>92597</td>\n",
       "      <td>2010-12-07</td>\n",
       "      <td>NaT</td>\n",
       "      <td>34.54</td>\n",
       "      <td>1</td>\n",
       "      <td>2010</td>\n",
       "    </tr>\n",
       "    <tr>\n",
       "      <th>1</th>\n",
       "      <td>92808</td>\n",
       "      <td>2010-11-09</td>\n",
       "      <td>NaT</td>\n",
       "      <td>18.54</td>\n",
       "      <td>1</td>\n",
       "      <td>2010</td>\n",
       "    </tr>\n",
       "    <tr>\n",
       "      <th>2</th>\n",
       "      <td>93090</td>\n",
       "      <td>2010-11-11</td>\n",
       "      <td>NaT</td>\n",
       "      <td>23.53</td>\n",
       "      <td>3</td>\n",
       "      <td>2010</td>\n",
       "    </tr>\n",
       "    <tr>\n",
       "      <th>3</th>\n",
       "      <td>93122</td>\n",
       "      <td>2010-11-11</td>\n",
       "      <td>NaT</td>\n",
       "      <td>44.02</td>\n",
       "      <td>3</td>\n",
       "      <td>2010</td>\n",
       "    </tr>\n",
       "    <tr>\n",
       "      <th>4</th>\n",
       "      <td>93133</td>\n",
       "      <td>2010-11-11</td>\n",
       "      <td>NaT</td>\n",
       "      <td>32.46</td>\n",
       "      <td>3</td>\n",
       "      <td>2010</td>\n",
       "    </tr>\n",
       "  </tbody>\n",
       "</table>\n",
       "</div>"
      ],
      "text/plain": [
       "   PolicyId EnrollDate CancelDate  MonthlyPremium  EnrollWeekday  EnrollYear\n",
       "0     92597 2010-12-07        NaT           34.54              1        2010\n",
       "1     92808 2010-11-09        NaT           18.54              1        2010\n",
       "2     93090 2010-11-11        NaT           23.53              3        2010\n",
       "3     93122 2010-11-11        NaT           44.02              3        2010\n",
       "4     93133 2010-11-11        NaT           32.46              3        2010"
      ]
     },
     "execution_count": 9,
     "metadata": {},
     "output_type": "execute_result"
    }
   ],
   "source": [
    "policy.head()"
   ]
  },
  {
   "cell_type": "code",
   "execution_count": 10,
   "metadata": {
    "collapsed": true
   },
   "outputs": [],
   "source": [
    "policy['EnrollMonth'] = policy['EnrollDate'].dt.month"
   ]
  },
  {
   "cell_type": "code",
   "execution_count": 11,
   "metadata": {
    "collapsed": true
   },
   "outputs": [],
   "source": [
    "policy['EnrollDay'] = policy['EnrollDate'].dt.day"
   ]
  },
  {
   "cell_type": "code",
   "execution_count": 12,
   "metadata": {
    "scrolled": true
   },
   "outputs": [
    {
     "data": {
      "text/html": [
       "<div>\n",
       "<style>\n",
       "    .dataframe thead tr:only-child th {\n",
       "        text-align: right;\n",
       "    }\n",
       "\n",
       "    .dataframe thead th {\n",
       "        text-align: left;\n",
       "    }\n",
       "\n",
       "    .dataframe tbody tr th {\n",
       "        vertical-align: top;\n",
       "    }\n",
       "</style>\n",
       "<table border=\"1\" class=\"dataframe\">\n",
       "  <thead>\n",
       "    <tr style=\"text-align: right;\">\n",
       "      <th></th>\n",
       "      <th>PolicyId</th>\n",
       "      <th>EnrollDate</th>\n",
       "      <th>CancelDate</th>\n",
       "      <th>MonthlyPremium</th>\n",
       "      <th>EnrollWeekday</th>\n",
       "      <th>EnrollYear</th>\n",
       "      <th>EnrollMonth</th>\n",
       "      <th>EnrollDay</th>\n",
       "    </tr>\n",
       "  </thead>\n",
       "  <tbody>\n",
       "    <tr>\n",
       "      <th>0</th>\n",
       "      <td>92597</td>\n",
       "      <td>2010-12-07</td>\n",
       "      <td>NaT</td>\n",
       "      <td>34.54</td>\n",
       "      <td>1</td>\n",
       "      <td>2010</td>\n",
       "      <td>12</td>\n",
       "      <td>7</td>\n",
       "    </tr>\n",
       "    <tr>\n",
       "      <th>1</th>\n",
       "      <td>92808</td>\n",
       "      <td>2010-11-09</td>\n",
       "      <td>NaT</td>\n",
       "      <td>18.54</td>\n",
       "      <td>1</td>\n",
       "      <td>2010</td>\n",
       "      <td>11</td>\n",
       "      <td>9</td>\n",
       "    </tr>\n",
       "    <tr>\n",
       "      <th>2</th>\n",
       "      <td>93090</td>\n",
       "      <td>2010-11-11</td>\n",
       "      <td>NaT</td>\n",
       "      <td>23.53</td>\n",
       "      <td>3</td>\n",
       "      <td>2010</td>\n",
       "      <td>11</td>\n",
       "      <td>11</td>\n",
       "    </tr>\n",
       "    <tr>\n",
       "      <th>3</th>\n",
       "      <td>93122</td>\n",
       "      <td>2010-11-11</td>\n",
       "      <td>NaT</td>\n",
       "      <td>44.02</td>\n",
       "      <td>3</td>\n",
       "      <td>2010</td>\n",
       "      <td>11</td>\n",
       "      <td>11</td>\n",
       "    </tr>\n",
       "    <tr>\n",
       "      <th>4</th>\n",
       "      <td>93133</td>\n",
       "      <td>2010-11-11</td>\n",
       "      <td>NaT</td>\n",
       "      <td>32.46</td>\n",
       "      <td>3</td>\n",
       "      <td>2010</td>\n",
       "      <td>11</td>\n",
       "      <td>11</td>\n",
       "    </tr>\n",
       "  </tbody>\n",
       "</table>\n",
       "</div>"
      ],
      "text/plain": [
       "   PolicyId EnrollDate CancelDate  MonthlyPremium  EnrollWeekday  EnrollYear  \\\n",
       "0     92597 2010-12-07        NaT           34.54              1        2010   \n",
       "1     92808 2010-11-09        NaT           18.54              1        2010   \n",
       "2     93090 2010-11-11        NaT           23.53              3        2010   \n",
       "3     93122 2010-11-11        NaT           44.02              3        2010   \n",
       "4     93133 2010-11-11        NaT           32.46              3        2010   \n",
       "\n",
       "   EnrollMonth  EnrollDay  \n",
       "0           12          7  \n",
       "1           11          9  \n",
       "2           11         11  \n",
       "3           11         11  \n",
       "4           11         11  "
      ]
     },
     "execution_count": 12,
     "metadata": {},
     "output_type": "execute_result"
    }
   ],
   "source": [
    "policy.head()"
   ]
  },
  {
   "cell_type": "code",
   "execution_count": 13,
   "metadata": {
    "collapsed": true
   },
   "outputs": [],
   "source": [
    "policy['CancelDate'] = pd.to_datetime(policy['CancelDate'])"
   ]
  },
  {
   "cell_type": "code",
   "execution_count": 14,
   "metadata": {
    "collapsed": true
   },
   "outputs": [],
   "source": [
    "policy['DaysToChurn'] = policy['CancelDate'] - policy['EnrollDate']"
   ]
  },
  {
   "cell_type": "code",
   "execution_count": 15,
   "metadata": {
    "scrolled": false
   },
   "outputs": [
    {
     "data": {
      "text/html": [
       "<div>\n",
       "<style>\n",
       "    .dataframe thead tr:only-child th {\n",
       "        text-align: right;\n",
       "    }\n",
       "\n",
       "    .dataframe thead th {\n",
       "        text-align: left;\n",
       "    }\n",
       "\n",
       "    .dataframe tbody tr th {\n",
       "        vertical-align: top;\n",
       "    }\n",
       "</style>\n",
       "<table border=\"1\" class=\"dataframe\">\n",
       "  <thead>\n",
       "    <tr style=\"text-align: right;\">\n",
       "      <th></th>\n",
       "      <th>PolicyId</th>\n",
       "      <th>EnrollDate</th>\n",
       "      <th>CancelDate</th>\n",
       "      <th>MonthlyPremium</th>\n",
       "      <th>EnrollWeekday</th>\n",
       "      <th>EnrollYear</th>\n",
       "      <th>EnrollMonth</th>\n",
       "      <th>EnrollDay</th>\n",
       "      <th>DaysToChurn</th>\n",
       "    </tr>\n",
       "  </thead>\n",
       "  <tbody>\n",
       "    <tr>\n",
       "      <th>0</th>\n",
       "      <td>92597</td>\n",
       "      <td>2010-12-07</td>\n",
       "      <td>NaT</td>\n",
       "      <td>34.54</td>\n",
       "      <td>1</td>\n",
       "      <td>2010</td>\n",
       "      <td>12</td>\n",
       "      <td>7</td>\n",
       "      <td>NaT</td>\n",
       "    </tr>\n",
       "    <tr>\n",
       "      <th>1</th>\n",
       "      <td>92808</td>\n",
       "      <td>2010-11-09</td>\n",
       "      <td>NaT</td>\n",
       "      <td>18.54</td>\n",
       "      <td>1</td>\n",
       "      <td>2010</td>\n",
       "      <td>11</td>\n",
       "      <td>9</td>\n",
       "      <td>NaT</td>\n",
       "    </tr>\n",
       "    <tr>\n",
       "      <th>2</th>\n",
       "      <td>93090</td>\n",
       "      <td>2010-11-11</td>\n",
       "      <td>NaT</td>\n",
       "      <td>23.53</td>\n",
       "      <td>3</td>\n",
       "      <td>2010</td>\n",
       "      <td>11</td>\n",
       "      <td>11</td>\n",
       "      <td>NaT</td>\n",
       "    </tr>\n",
       "    <tr>\n",
       "      <th>3</th>\n",
       "      <td>93122</td>\n",
       "      <td>2010-11-11</td>\n",
       "      <td>NaT</td>\n",
       "      <td>44.02</td>\n",
       "      <td>3</td>\n",
       "      <td>2010</td>\n",
       "      <td>11</td>\n",
       "      <td>11</td>\n",
       "      <td>NaT</td>\n",
       "    </tr>\n",
       "    <tr>\n",
       "      <th>4</th>\n",
       "      <td>93133</td>\n",
       "      <td>2010-11-11</td>\n",
       "      <td>NaT</td>\n",
       "      <td>32.46</td>\n",
       "      <td>3</td>\n",
       "      <td>2010</td>\n",
       "      <td>11</td>\n",
       "      <td>11</td>\n",
       "      <td>NaT</td>\n",
       "    </tr>\n",
       "  </tbody>\n",
       "</table>\n",
       "</div>"
      ],
      "text/plain": [
       "   PolicyId EnrollDate CancelDate  MonthlyPremium  EnrollWeekday  EnrollYear  \\\n",
       "0     92597 2010-12-07        NaT           34.54              1        2010   \n",
       "1     92808 2010-11-09        NaT           18.54              1        2010   \n",
       "2     93090 2010-11-11        NaT           23.53              3        2010   \n",
       "3     93122 2010-11-11        NaT           44.02              3        2010   \n",
       "4     93133 2010-11-11        NaT           32.46              3        2010   \n",
       "\n",
       "   EnrollMonth  EnrollDay DaysToChurn  \n",
       "0           12          7         NaT  \n",
       "1           11          9         NaT  \n",
       "2           11         11         NaT  \n",
       "3           11         11         NaT  \n",
       "4           11         11         NaT  "
      ]
     },
     "execution_count": 15,
     "metadata": {},
     "output_type": "execute_result"
    }
   ],
   "source": [
    "policy.head()"
   ]
  },
  {
   "cell_type": "code",
   "execution_count": 16,
   "metadata": {
    "collapsed": true
   },
   "outputs": [],
   "source": [
    "policy['CancelWeekday'] = policy['CancelDate'].dt.dayofweek"
   ]
  },
  {
   "cell_type": "code",
   "execution_count": 17,
   "metadata": {
    "collapsed": true
   },
   "outputs": [],
   "source": [
    "policy['CancelDay'] = policy['CancelDate'].dt.day"
   ]
  },
  {
   "cell_type": "code",
   "execution_count": 18,
   "metadata": {
    "collapsed": true
   },
   "outputs": [],
   "source": [
    "policy['CancelMonth'] = policy['CancelDate'].dt.month"
   ]
  },
  {
   "cell_type": "code",
   "execution_count": 19,
   "metadata": {
    "collapsed": true
   },
   "outputs": [],
   "source": [
    "policy['CancelYear'] = policy['CancelDate'].dt.year"
   ]
  },
  {
   "cell_type": "code",
   "execution_count": 20,
   "metadata": {
    "collapsed": true
   },
   "outputs": [],
   "source": [
    "policy['DaysToChurn'] = policy['DaysToChurn'].dt.days"
   ]
  },
  {
   "cell_type": "code",
   "execution_count": 21,
   "metadata": {
    "collapsed": true,
    "scrolled": true
   },
   "outputs": [],
   "source": [
    "policy['CancelDate'] = policy['CancelDate'].fillna(0)"
   ]
  },
  {
   "cell_type": "code",
   "execution_count": 22,
   "metadata": {
    "collapsed": true
   },
   "outputs": [],
   "source": [
    "policy['Churn'] = np.where(policy['CancelDate'] == '1970-01-01', 0, 1)"
   ]
  },
  {
   "cell_type": "code",
   "execution_count": null,
   "metadata": {
    "collapsed": true
   },
   "outputs": [],
   "source": [
    "policy['MonthlyPremium'] = policy['MonthlyPremium'].fillna(policy['MonthlyPremium'].mean())"
   ]
  },
  {
   "cell_type": "code",
   "execution_count": 23,
   "metadata": {
    "collapsed": true
   },
   "outputs": [],
   "source": [
    "del policy['EnrollDate']\n",
    "del policy['CancelDate']"
   ]
  },
  {
   "cell_type": "code",
   "execution_count": 29,
   "metadata": {
    "collapsed": true
   },
   "outputs": [],
   "source": [
    "del policy['CancelDay']\n",
    "del policy['CancelMonth']\n",
    "del policy['CancelWeekday']\n",
    "del policy['DaysToChurn']\n",
    "del policy['CancelYear']"
   ]
  },
  {
   "cell_type": "code",
   "execution_count": null,
   "metadata": {
    "collapsed": true
   },
   "outputs": [],
   "source": []
  },
  {
   "cell_type": "code",
   "execution_count": 38,
   "metadata": {
    "collapsed": true
   },
   "outputs": [],
   "source": [
    "policy['LogMonthlyPremium'] = np.log(policy['MonthlyPremium'])"
   ]
  },
  {
   "cell_type": "code",
   "execution_count": 56,
   "metadata": {
    "collapsed": true
   },
   "outputs": [],
   "source": [
    "policy['LogPolicyID'] = np.log(policy['PolicyId'])"
   ]
  },
  {
   "cell_type": "code",
   "execution_count": 90,
   "metadata": {
    "collapsed": true
   },
   "outputs": [],
   "source": [
    "policy['LogEnrollYear'] = np.log(policy['EnrollYear'])"
   ]
  },
  {
   "cell_type": "code",
   "execution_count": 97,
   "metadata": {
    "collapsed": true
   },
   "outputs": [],
   "source": [
    "policy['LogEnrollDay'] = np.log(policy['EnrollDay'])"
   ]
  },
  {
   "cell_type": "code",
   "execution_count": 98,
   "metadata": {
    "scrolled": true
   },
   "outputs": [
    {
     "data": {
      "text/html": [
       "<div>\n",
       "<style>\n",
       "    .dataframe thead tr:only-child th {\n",
       "        text-align: right;\n",
       "    }\n",
       "\n",
       "    .dataframe thead th {\n",
       "        text-align: left;\n",
       "    }\n",
       "\n",
       "    .dataframe tbody tr th {\n",
       "        vertical-align: top;\n",
       "    }\n",
       "</style>\n",
       "<table border=\"1\" class=\"dataframe\">\n",
       "  <thead>\n",
       "    <tr style=\"text-align: right;\">\n",
       "      <th></th>\n",
       "      <th>PolicyId</th>\n",
       "      <th>EnrollDate</th>\n",
       "      <th>CancelDate</th>\n",
       "      <th>MonthlyPremium</th>\n",
       "      <th>EnrollWeekday</th>\n",
       "      <th>EnrollYear</th>\n",
       "      <th>EnrollMonth</th>\n",
       "      <th>EnrollDay</th>\n",
       "      <th>Churn</th>\n",
       "      <th>LogMonthlyPremium</th>\n",
       "      <th>LogPolicyID</th>\n",
       "      <th>LogEnrollYear</th>\n",
       "      <th>LogEnrollDay</th>\n",
       "    </tr>\n",
       "  </thead>\n",
       "  <tbody>\n",
       "    <tr>\n",
       "      <th>0</th>\n",
       "      <td>92597</td>\n",
       "      <td>2010-12-07</td>\n",
       "      <td>1970-01-01</td>\n",
       "      <td>34.54</td>\n",
       "      <td>1</td>\n",
       "      <td>2010</td>\n",
       "      <td>12</td>\n",
       "      <td>7</td>\n",
       "      <td>0</td>\n",
       "      <td>3.542118</td>\n",
       "      <td>11.436012</td>\n",
       "      <td>7.60589</td>\n",
       "      <td>1.945910</td>\n",
       "    </tr>\n",
       "    <tr>\n",
       "      <th>1</th>\n",
       "      <td>92808</td>\n",
       "      <td>2010-11-09</td>\n",
       "      <td>1970-01-01</td>\n",
       "      <td>18.54</td>\n",
       "      <td>1</td>\n",
       "      <td>2010</td>\n",
       "      <td>11</td>\n",
       "      <td>9</td>\n",
       "      <td>0</td>\n",
       "      <td>2.919931</td>\n",
       "      <td>11.438288</td>\n",
       "      <td>7.60589</td>\n",
       "      <td>2.197225</td>\n",
       "    </tr>\n",
       "    <tr>\n",
       "      <th>2</th>\n",
       "      <td>93090</td>\n",
       "      <td>2010-11-11</td>\n",
       "      <td>1970-01-01</td>\n",
       "      <td>23.53</td>\n",
       "      <td>3</td>\n",
       "      <td>2010</td>\n",
       "      <td>11</td>\n",
       "      <td>11</td>\n",
       "      <td>0</td>\n",
       "      <td>3.158276</td>\n",
       "      <td>11.441322</td>\n",
       "      <td>7.60589</td>\n",
       "      <td>2.397895</td>\n",
       "    </tr>\n",
       "    <tr>\n",
       "      <th>3</th>\n",
       "      <td>93122</td>\n",
       "      <td>2010-11-11</td>\n",
       "      <td>1970-01-01</td>\n",
       "      <td>44.02</td>\n",
       "      <td>3</td>\n",
       "      <td>2010</td>\n",
       "      <td>11</td>\n",
       "      <td>11</td>\n",
       "      <td>0</td>\n",
       "      <td>3.784644</td>\n",
       "      <td>11.441666</td>\n",
       "      <td>7.60589</td>\n",
       "      <td>2.397895</td>\n",
       "    </tr>\n",
       "    <tr>\n",
       "      <th>4</th>\n",
       "      <td>93133</td>\n",
       "      <td>2010-11-11</td>\n",
       "      <td>1970-01-01</td>\n",
       "      <td>32.46</td>\n",
       "      <td>3</td>\n",
       "      <td>2010</td>\n",
       "      <td>11</td>\n",
       "      <td>11</td>\n",
       "      <td>0</td>\n",
       "      <td>3.480009</td>\n",
       "      <td>11.441784</td>\n",
       "      <td>7.60589</td>\n",
       "      <td>2.397895</td>\n",
       "    </tr>\n",
       "  </tbody>\n",
       "</table>\n",
       "</div>"
      ],
      "text/plain": [
       "   PolicyId EnrollDate CancelDate  MonthlyPremium  EnrollWeekday  EnrollYear  \\\n",
       "0     92597 2010-12-07 1970-01-01           34.54              1        2010   \n",
       "1     92808 2010-11-09 1970-01-01           18.54              1        2010   \n",
       "2     93090 2010-11-11 1970-01-01           23.53              3        2010   \n",
       "3     93122 2010-11-11 1970-01-01           44.02              3        2010   \n",
       "4     93133 2010-11-11 1970-01-01           32.46              3        2010   \n",
       "\n",
       "   EnrollMonth  EnrollDay  Churn  LogMonthlyPremium  LogPolicyID  \\\n",
       "0           12          7      0           3.542118    11.436012   \n",
       "1           11          9      0           2.919931    11.438288   \n",
       "2           11         11      0           3.158276    11.441322   \n",
       "3           11         11      0           3.784644    11.441666   \n",
       "4           11         11      0           3.480009    11.441784   \n",
       "\n",
       "   LogEnrollYear  LogEnrollDay  \n",
       "0        7.60589      1.945910  \n",
       "1        7.60589      2.197225  \n",
       "2        7.60589      2.397895  \n",
       "3        7.60589      2.397895  \n",
       "4        7.60589      2.397895  "
      ]
     },
     "execution_count": 98,
     "metadata": {},
     "output_type": "execute_result"
    }
   ],
   "source": [
    "policy.head()"
   ]
  },
  {
   "cell_type": "code",
   "execution_count": null,
   "metadata": {
    "collapsed": true
   },
   "outputs": [],
   "source": []
  },
  {
   "cell_type": "code",
   "execution_count": null,
   "metadata": {
    "collapsed": true
   },
   "outputs": [],
   "source": []
  },
  {
   "cell_type": "code",
   "execution_count": null,
   "metadata": {
    "collapsed": true
   },
   "outputs": [],
   "source": []
  },
  {
   "cell_type": "code",
   "execution_count": null,
   "metadata": {
    "collapsed": true
   },
   "outputs": [],
   "source": []
  },
  {
   "cell_type": "code",
   "execution_count": null,
   "metadata": {
    "collapsed": true
   },
   "outputs": [],
   "source": []
  },
  {
   "cell_type": "code",
   "execution_count": null,
   "metadata": {
    "collapsed": true
   },
   "outputs": [],
   "source": []
  },
  {
   "cell_type": "code",
   "execution_count": null,
   "metadata": {
    "collapsed": true
   },
   "outputs": [],
   "source": []
  },
  {
   "cell_type": "code",
   "execution_count": null,
   "metadata": {
    "collapsed": true
   },
   "outputs": [],
   "source": []
  },
  {
   "cell_type": "code",
   "execution_count": null,
   "metadata": {
    "collapsed": true
   },
   "outputs": [],
   "source": []
  },
  {
   "cell_type": "code",
   "execution_count": null,
   "metadata": {
    "collapsed": true
   },
   "outputs": [],
   "source": []
  },
  {
   "cell_type": "code",
   "execution_count": 104,
   "metadata": {
    "collapsed": true
   },
   "outputs": [],
   "source": [
    "X = policy[[\n",
    "            'EnrollWeekday',\n",
    "            'EnrollYear', \n",
    "            'EnrollMonth',\n",
    "            'EnrollDay',\n",
    "            'LogMonthlyPremium',\n",
    "            'LogPolicyID',\n",
    "            'LogEnrollDay']\n",
    "            ]           \n",
    "y = policy['Churn']"
   ]
  },
  {
   "cell_type": "markdown",
   "metadata": {},
   "source": [
    "# Logistic Regression!!"
   ]
  },
  {
   "cell_type": "code",
   "execution_count": 105,
   "metadata": {},
   "outputs": [
    {
     "data": {
      "text/plain": [
       "LogisticRegression(C=1.0, class_weight=None, dual=False, fit_intercept=True,\n",
       "          intercept_scaling=1, max_iter=100, multi_class='ovr', n_jobs=1,\n",
       "          penalty='l2', random_state=None, solver='liblinear', tol=0.0001,\n",
       "          verbose=0, warm_start=False)"
      ]
     },
     "execution_count": 105,
     "metadata": {},
     "output_type": "execute_result"
    }
   ],
   "source": [
    "X_train, X_test, y_train, y_test = train_test_split(X,y)\n",
    "model = LogisticRegression()\n",
    "model.fit(X_train, y_train)"
   ]
  },
  {
   "cell_type": "code",
   "execution_count": 106,
   "metadata": {
    "collapsed": true
   },
   "outputs": [],
   "source": [
    "y_test_prob = model.predict(X_test)\n",
    "y_train_prob = model.predict(X_train)"
   ]
  },
  {
   "cell_type": "code",
   "execution_count": 107,
   "metadata": {
    "collapsed": true
   },
   "outputs": [],
   "source": [
    "probs = model.predict_proba(X_test)"
   ]
  },
  {
   "cell_type": "code",
   "execution_count": 108,
   "metadata": {},
   "outputs": [
    {
     "name": "stdout",
     "output_type": "stream",
     "text": [
      "0.86792\n",
      "0.56473841482\n"
     ]
    }
   ],
   "source": [
    "print(metrics.accuracy_score(y_test, y_test_prob))\n",
    "print(metrics.roc_auc_score(y_test, probs[:,1]))"
   ]
  },
  {
   "cell_type": "code",
   "execution_count": 115,
   "metadata": {},
   "outputs": [
    {
     "name": "stdout",
     "output_type": "stream",
     "text": [
      "0.0\n"
     ]
    }
   ],
   "source": [
    "print metrics.recall_score(y_test, y_test_prob)"
   ]
  },
  {
   "cell_type": "code",
   "execution_count": 72,
   "metadata": {
    "collapsed": true
   },
   "outputs": [],
   "source": [
    "fpr, tpr, thresholds = metrics.roc_curve(y_test, y_test_prob, pos_label=0)"
   ]
  },
  {
   "cell_type": "code",
   "execution_count": 65,
   "metadata": {
    "collapsed": true
   },
   "outputs": [],
   "source": [
    "def plot_ROC(y_train_true, y_train_prob, y_test_true, y_test_prob):\n",
    "    '''\n",
    "    a funciton to plot the ROC curve for train labels and test labels.\n",
    "    Use the best threshold found in train set to classify items in test set.\n",
    "    '''\n",
    "    fpr_train, tpr_train, thresholds_train = metrics.roc_curve(y_train_true, y_train_prob, pos_label =True)\n",
    "    sum_sensitivity_specificity_train = tpr_train + (1-fpr_train)\n",
    "    best_threshold_id_train = np.argmax(sum_sensitivity_specificity_train)\n",
    "    best_threshold = thresholds_train[best_threshold_id_train]\n",
    "    best_fpr_train = fpr_train[best_threshold_id_train]\n",
    "    best_tpr_train = tpr_train[best_threshold_id_train]\n",
    "    y_train = y_train_prob > best_threshold\n",
    "\n",
    "    cm_train = metrics.confusion_matrix(y_train_true, y_train)\n",
    "    acc_train = metrics.accuracy_score(y_train_true, y_train)\n",
    "    auc_train = metrics.roc_auc_score(y_train_true, y_train)\n",
    "\n",
    "    print 'Train Accuracy: %s ' %acc_train\n",
    "    print 'Train AUC: %s ' %auc_train\n",
    "    print 'Train Confusion Matrix:'\n",
    "    print cm_train\n",
    "\n",
    "    fig = plt.figure(figsize=(10,5))\n",
    "    ax = fig.add_subplot(121)\n",
    "    curve1 = ax.plot(fpr_train, tpr_train)\n",
    "    curve2 = ax.plot([0, 1], [0, 1], color='navy', linestyle='--')\n",
    "    dot = ax.plot(best_fpr_train, best_tpr_train, marker='o', color='black')\n",
    "    ax.text(best_fpr_train, best_tpr_train, s = '(%.3f,%.3f)' %(best_fpr_train, best_tpr_train))\n",
    "    plt.xlim([0.0, 1.0])\n",
    "    plt.ylim([0.0, 1.0])\n",
    "    plt.xlabel('False Positive Rate')\n",
    "    plt.ylabel('True Positive Rate')\n",
    "    plt.title('ROC curve (Train), AUC = %.4f'%auc_train)\n",
    "\n",
    "    fpr_test, tpr_test, thresholds_test = metrics.roc_curve(y_test_true, y_test_prob, pos_label =True)\n",
    "\n",
    "    y_test = y_test_prob > best_threshold\n",
    "\n",
    "    cm_test = metrics.confusion_matrix(y_test_true, y_test)\n",
    "    acc_test = metrics.accuracy_score(y_test_true, y_test)\n",
    "    auc_test = metrics.roc_auc_score(y_test_true, y_test)\n",
    "\n",
    "    print 'Test Accuracy: %s ' %acc_test\n",
    "    print 'Test AUC: %s ' %auc_test\n",
    "    print 'Test Confusion Matrix:'\n",
    "    print cm_test\n",
    "\n",
    "    tpr_score = float(cm_test[1][1])/(cm_test[1][1] + cm_test[1][0])\n",
    "    fpr_score = float(cm_test[0][1])/(cm_test[0][0]+ cm_test[0][1])\n",
    "\n",
    "    ax2 = fig.add_subplot(122)\n",
    "    curve1 = ax2.plot(fpr_test, tpr_test)\n",
    "    curve2 = ax2.plot([0, 1], [0, 1], color='navy', linestyle='--')\n",
    "    dot = ax2.plot(fpr_score, tpr_score, marker='o', color='black')\n",
    "    ax2.text(fpr_score, tpr_score, s = '(%.3f,%.3f)' %(fpr_score, tpr_score))\n",
    "    plt.xlim([0.0, 1.0])\n",
    "    plt.ylim([0.0, 1.0])\n",
    "    plt.xlabel('False Positive Rate')\n",
    "    plt.ylabel('True Positive Rate')\n",
    "    plt.title('ROC curve (Test), AUC = %.4f'%auc_test)\n",
    "    plt.savefig('ROC', dpi = 500)\n",
    "    plt.show()\n",
    "\n",
    "    return best_threshold"
   ]
  },
  {
   "cell_type": "code",
   "execution_count": 109,
   "metadata": {},
   "outputs": [
    {
     "name": "stdout",
     "output_type": "stream",
     "text": [
      "Train Accuracy: 0.867773333333 \n",
      "Train AUC: 0.5 \n",
      "Train Confusion Matrix:\n",
      "[[65083     0]\n",
      " [ 9917     0]]\n",
      "Test Accuracy: 0.86792 \n",
      "Test AUC: 0.5 \n",
      "Test Confusion Matrix:\n",
      "[[21698     0]\n",
      " [ 3302     0]]\n"
     ]
    },
    {
     "data": {
      "image/png": "[encoded data removed]",
      "text/plain": [
       "<matplotlib.figure.Figure at 0x11be81c50>"
      ]
     },
     "metadata": {},
     "output_type": "display_data"
    },
    {
     "data": {
      "text/plain": [
       "1"
      ]
     },
     "execution_count": 109,
     "metadata": {},
     "output_type": "execute_result"
    }
   ],
   "source": [
    "plot_ROC(y_train, y_train_prob, y_test, y_test_prob)"
   ]
  },
  {
   "cell_type": "markdown",
   "metadata": {},
   "source": [
    "# Gradient Boosted Regression Trees"
   ]
  },
  {
   "cell_type": "code",
   "execution_count": 110,
   "metadata": {
    "collapsed": true
   },
   "outputs": [],
   "source": [
    "model2 = GradientBoostingClassifier()"
   ]
  },
  {
   "cell_type": "code",
   "execution_count": 111,
   "metadata": {},
   "outputs": [
    {
     "data": {
      "text/plain": [
       "GradientBoostingClassifier(criterion='friedman_mse', init=None,\n",
       "              learning_rate=0.1, loss='deviance', max_depth=3,\n",
       "              max_features=None, max_leaf_nodes=None,\n",
       "              min_impurity_split=1e-07, min_samples_leaf=1,\n",
       "              min_samples_split=2, min_weight_fraction_leaf=0.0,\n",
       "              n_estimators=100, presort='auto', random_state=None,\n",
       "              subsample=1.0, verbose=0, warm_start=False)"
      ]
     },
     "execution_count": 111,
     "metadata": {},
     "output_type": "execute_result"
    }
   ],
   "source": [
    "model2.fit(X,y)"
   ]
  },
  {
   "cell_type": "code",
   "execution_count": 112,
   "metadata": {
    "collapsed": true
   },
   "outputs": [],
   "source": [
    "y_test_prob2 = model2.predict(X_test)\n",
    "y_train_prob2 = model2.predict(X_train)"
   ]
  },
  {
   "cell_type": "code",
   "execution_count": 113,
   "metadata": {},
   "outputs": [
    {
     "name": "stdout",
     "output_type": "stream",
     "text": [
      "Train Accuracy: 0.867773333333 \n",
      "Train AUC: 0.5 \n",
      "Train Confusion Matrix:\n",
      "[[65083     0]\n",
      " [ 9917     0]]\n",
      "Test Accuracy: 0.86792 \n",
      "Test AUC: 0.5 \n",
      "Test Confusion Matrix:\n",
      "[[21698     0]\n",
      " [ 3302     0]]\n"
     ]
    },
    {
     "data": {
      "image/png": "[encoded data removed]",
      "text/plain": [
       "<matplotlib.figure.Figure at 0x11fd2de10>"
      ]
     },
     "metadata": {},
     "output_type": "display_data"
    },
    {
     "data": {
      "text/plain": [
       "1"
      ]
     },
     "execution_count": 113,
     "metadata": {},
     "output_type": "execute_result"
    }
   ],
   "source": [
    "plot_ROC(y_train, y_train_prob2, y_test, y_test_prob2)"
   ]
  },
  {
   "cell_type": "code",
   "execution_count": null,
   "metadata": {
    "collapsed": true
   },
   "outputs": [],
   "source": []
  },
  {
   "cell_type": "code",
   "execution_count": null,
   "metadata": {
    "collapsed": true
   },
   "outputs": [],
   "source": []
  },
  {
   "cell_type": "code",
   "execution_count": null,
   "metadata": {
    "collapsed": true
   },
   "outputs": [],
   "source": []
  },
  {
   "cell_type": "code",
   "execution_count": null,
   "metadata": {
    "collapsed": true
   },
   "outputs": [],
   "source": []
  },
  {
   "cell_type": "code",
   "execution_count": null,
   "metadata": {
    "collapsed": true
   },
   "outputs": [],
   "source": []
  },
  {
   "cell_type": "code",
   "execution_count": null,
   "metadata": {
    "collapsed": true
   },
   "outputs": [],
   "source": [
    "policy.groupby('churn').mean()"
   ]
  },
  {
   "cell_type": "code",
   "execution_count": 112,
   "metadata": {
    "collapsed": true
   },
   "outputs": [
    {
     "data": {
      "text/html": [
       "<div>\n",
       "<style>\n",
       "    .dataframe thead tr:only-child th {\n",
       "        text-align: right;\n",
       "    }\n",
       "\n",
       "    .dataframe thead th {\n",
       "        text-align: left;\n",
       "    }\n",
       "\n",
       "    .dataframe tbody tr th {\n",
       "        vertical-align: top;\n",
       "    }\n",
       "</style>\n",
       "<table border=\"1\" class=\"dataframe\">\n",
       "  <thead>\n",
       "    <tr style=\"text-align: right;\">\n",
       "      <th></th>\n",
       "      <th>PolicyId</th>\n",
       "      <th>MonthlyPremium</th>\n",
       "      <th>EnrollWeekday</th>\n",
       "      <th>EnrollMonth</th>\n",
       "      <th>EnrollDay</th>\n",
       "      <th>CancelWeekday</th>\n",
       "      <th>CancelDay</th>\n",
       "      <th>CancelMonth</th>\n",
       "      <th>CancelYear</th>\n",
       "    </tr>\n",
       "    <tr>\n",
       "      <th>EnrollYear</th>\n",
       "      <th></th>\n",
       "      <th></th>\n",
       "      <th></th>\n",
       "      <th></th>\n",
       "      <th></th>\n",
       "      <th></th>\n",
       "      <th></th>\n",
       "      <th></th>\n",
       "      <th></th>\n",
       "    </tr>\n",
       "  </thead>\n",
       "  <tbody>\n",
       "    <tr>\n",
       "      <th>2000</th>\n",
       "      <td>37833.333333</td>\n",
       "      <td>31.993333</td>\n",
       "      <td>2.000000</td>\n",
       "      <td>12.000000</td>\n",
       "      <td>15.333333</td>\n",
       "      <td>NaN</td>\n",
       "      <td>NaN</td>\n",
       "      <td>NaN</td>\n",
       "      <td>NaN</td>\n",
       "    </tr>\n",
       "    <tr>\n",
       "      <th>2001</th>\n",
       "      <td>43743.546512</td>\n",
       "      <td>32.580930</td>\n",
       "      <td>2.453488</td>\n",
       "      <td>7.941860</td>\n",
       "      <td>16.662791</td>\n",
       "      <td>0.800000</td>\n",
       "      <td>19.200000</td>\n",
       "      <td>7.200000</td>\n",
       "      <td>2016.0</td>\n",
       "    </tr>\n",
       "    <tr>\n",
       "      <th>2002</th>\n",
       "      <td>43622.497409</td>\n",
       "      <td>32.697098</td>\n",
       "      <td>1.984456</td>\n",
       "      <td>6.450777</td>\n",
       "      <td>14.564767</td>\n",
       "      <td>3.000000</td>\n",
       "      <td>17.500000</td>\n",
       "      <td>5.333333</td>\n",
       "      <td>2016.0</td>\n",
       "    </tr>\n",
       "    <tr>\n",
       "      <th>2003</th>\n",
       "      <td>41873.871901</td>\n",
       "      <td>33.022149</td>\n",
       "      <td>1.793388</td>\n",
       "      <td>6.136364</td>\n",
       "      <td>15.590909</td>\n",
       "      <td>2.500000</td>\n",
       "      <td>12.900000</td>\n",
       "      <td>6.500000</td>\n",
       "      <td>2016.0</td>\n",
       "    </tr>\n",
       "    <tr>\n",
       "      <th>2004</th>\n",
       "      <td>36593.523179</td>\n",
       "      <td>33.158179</td>\n",
       "      <td>2.119205</td>\n",
       "      <td>7.132450</td>\n",
       "      <td>16.609272</td>\n",
       "      <td>2.944444</td>\n",
       "      <td>14.611111</td>\n",
       "      <td>7.333333</td>\n",
       "      <td>2016.0</td>\n",
       "    </tr>\n",
       "    <tr>\n",
       "      <th>2005</th>\n",
       "      <td>35969.430416</td>\n",
       "      <td>32.200846</td>\n",
       "      <td>2.942611</td>\n",
       "      <td>6.909613</td>\n",
       "      <td>17.021521</td>\n",
       "      <td>2.025000</td>\n",
       "      <td>16.525000</td>\n",
       "      <td>6.000000</td>\n",
       "      <td>2016.0</td>\n",
       "    </tr>\n",
       "    <tr>\n",
       "      <th>2006</th>\n",
       "      <td>32324.478413</td>\n",
       "      <td>34.282532</td>\n",
       "      <td>2.628938</td>\n",
       "      <td>6.970828</td>\n",
       "      <td>16.042007</td>\n",
       "      <td>2.964286</td>\n",
       "      <td>16.303571</td>\n",
       "      <td>7.303571</td>\n",
       "      <td>2016.0</td>\n",
       "    </tr>\n",
       "    <tr>\n",
       "      <th>2007</th>\n",
       "      <td>30884.023303</td>\n",
       "      <td>35.297082</td>\n",
       "      <td>2.606890</td>\n",
       "      <td>6.330294</td>\n",
       "      <td>15.481256</td>\n",
       "      <td>2.054545</td>\n",
       "      <td>16.327273</td>\n",
       "      <td>6.290909</td>\n",
       "      <td>2016.0</td>\n",
       "    </tr>\n",
       "    <tr>\n",
       "      <th>2008</th>\n",
       "      <td>24788.767270</td>\n",
       "      <td>34.938914</td>\n",
       "      <td>2.695724</td>\n",
       "      <td>6.925164</td>\n",
       "      <td>15.693257</td>\n",
       "      <td>2.629213</td>\n",
       "      <td>16.235955</td>\n",
       "      <td>6.404494</td>\n",
       "      <td>2016.0</td>\n",
       "    </tr>\n",
       "    <tr>\n",
       "      <th>2009</th>\n",
       "      <td>20899.914311</td>\n",
       "      <td>32.622621</td>\n",
       "      <td>2.676985</td>\n",
       "      <td>6.974877</td>\n",
       "      <td>15.408255</td>\n",
       "      <td>2.142105</td>\n",
       "      <td>14.410526</td>\n",
       "      <td>6.300000</td>\n",
       "      <td>2016.0</td>\n",
       "    </tr>\n",
       "    <tr>\n",
       "      <th>2010</th>\n",
       "      <td>76306.309494</td>\n",
       "      <td>30.672504</td>\n",
       "      <td>2.561529</td>\n",
       "      <td>7.317879</td>\n",
       "      <td>15.628360</td>\n",
       "      <td>2.334928</td>\n",
       "      <td>15.976077</td>\n",
       "      <td>6.648325</td>\n",
       "      <td>2016.0</td>\n",
       "    </tr>\n",
       "    <tr>\n",
       "      <th>2011</th>\n",
       "      <td>138589.385251</td>\n",
       "      <td>29.067622</td>\n",
       "      <td>2.610617</td>\n",
       "      <td>6.512079</td>\n",
       "      <td>15.757311</td>\n",
       "      <td>2.282927</td>\n",
       "      <td>15.104065</td>\n",
       "      <td>6.863415</td>\n",
       "      <td>2016.0</td>\n",
       "    </tr>\n",
       "    <tr>\n",
       "      <th>2012</th>\n",
       "      <td>228406.462425</td>\n",
       "      <td>27.726176</td>\n",
       "      <td>2.632708</td>\n",
       "      <td>6.634547</td>\n",
       "      <td>15.780434</td>\n",
       "      <td>2.297701</td>\n",
       "      <td>15.625287</td>\n",
       "      <td>6.334483</td>\n",
       "      <td>2016.0</td>\n",
       "    </tr>\n",
       "    <tr>\n",
       "      <th>2013</th>\n",
       "      <td>346932.480115</td>\n",
       "      <td>27.423853</td>\n",
       "      <td>2.650422</td>\n",
       "      <td>6.633017</td>\n",
       "      <td>15.547733</td>\n",
       "      <td>2.358535</td>\n",
       "      <td>15.458301</td>\n",
       "      <td>6.457521</td>\n",
       "      <td>2016.0</td>\n",
       "    </tr>\n",
       "    <tr>\n",
       "      <th>2014</th>\n",
       "      <td>504483.440625</td>\n",
       "      <td>27.773724</td>\n",
       "      <td>2.608638</td>\n",
       "      <td>6.618784</td>\n",
       "      <td>15.482144</td>\n",
       "      <td>2.339519</td>\n",
       "      <td>15.357071</td>\n",
       "      <td>6.223671</td>\n",
       "      <td>2016.0</td>\n",
       "    </tr>\n",
       "    <tr>\n",
       "      <th>2015</th>\n",
       "      <td>702789.517221</td>\n",
       "      <td>26.058535</td>\n",
       "      <td>2.597420</td>\n",
       "      <td>6.873320</td>\n",
       "      <td>15.666893</td>\n",
       "      <td>2.338111</td>\n",
       "      <td>15.949834</td>\n",
       "      <td>6.079857</td>\n",
       "      <td>2016.0</td>\n",
       "    </tr>\n",
       "    <tr>\n",
       "      <th>2016</th>\n",
       "      <td>901044.766091</td>\n",
       "      <td>25.787438</td>\n",
       "      <td>2.640119</td>\n",
       "      <td>6.476816</td>\n",
       "      <td>15.476586</td>\n",
       "      <td>2.369702</td>\n",
       "      <td>15.938201</td>\n",
       "      <td>8.106371</td>\n",
       "      <td>2016.0</td>\n",
       "    </tr>\n",
       "  </tbody>\n",
       "</table>\n",
       "</div>"
      ],
      "text/plain": [
       "                 PolicyId  MonthlyPremium  EnrollWeekday  EnrollMonth  \\\n",
       "EnrollYear                                                              \n",
       "2000         37833.333333       31.993333       2.000000    12.000000   \n",
       "2001         43743.546512       32.580930       2.453488     7.941860   \n",
       "2002         43622.497409       32.697098       1.984456     6.450777   \n",
       "2003         41873.871901       33.022149       1.793388     6.136364   \n",
       "2004         36593.523179       33.158179       2.119205     7.132450   \n",
       "2005         35969.430416       32.200846       2.942611     6.909613   \n",
       "2006         32324.478413       34.282532       2.628938     6.970828   \n",
       "2007         30884.023303       35.297082       2.606890     6.330294   \n",
       "2008         24788.767270       34.938914       2.695724     6.925164   \n",
       "2009         20899.914311       32.622621       2.676985     6.974877   \n",
       "2010         76306.309494       30.672504       2.561529     7.317879   \n",
       "2011        138589.385251       29.067622       2.610617     6.512079   \n",
       "2012        228406.462425       27.726176       2.632708     6.634547   \n",
       "2013        346932.480115       27.423853       2.650422     6.633017   \n",
       "2014        504483.440625       27.773724       2.608638     6.618784   \n",
       "2015        702789.517221       26.058535       2.597420     6.873320   \n",
       "2016        901044.766091       25.787438       2.640119     6.476816   \n",
       "\n",
       "            EnrollDay  CancelWeekday  CancelDay  CancelMonth  CancelYear  \n",
       "EnrollYear                                                                \n",
       "2000        15.333333            NaN        NaN          NaN         NaN  \n",
       "2001        16.662791       0.800000  19.200000     7.200000      2016.0  \n",
       "2002        14.564767       3.000000  17.500000     5.333333      2016.0  \n",
       "2003        15.590909       2.500000  12.900000     6.500000      2016.0  \n",
       "2004        16.609272       2.944444  14.611111     7.333333      2016.0  \n",
       "2005        17.021521       2.025000  16.525000     6.000000      2016.0  \n",
       "2006        16.042007       2.964286  16.303571     7.303571      2016.0  \n",
       "2007        15.481256       2.054545  16.327273     6.290909      2016.0  \n",
       "2008        15.693257       2.629213  16.235955     6.404494      2016.0  \n",
       "2009        15.408255       2.142105  14.410526     6.300000      2016.0  \n",
       "2010        15.628360       2.334928  15.976077     6.648325      2016.0  \n",
       "2011        15.757311       2.282927  15.104065     6.863415      2016.0  \n",
       "2012        15.780434       2.297701  15.625287     6.334483      2016.0  \n",
       "2013        15.547733       2.358535  15.458301     6.457521      2016.0  \n",
       "2014        15.482144       2.339519  15.357071     6.223671      2016.0  \n",
       "2015        15.666893       2.338111  15.949834     6.079857      2016.0  \n",
       "2016        15.476586       2.369702  15.938201     8.106371      2016.0  "
      ]
     },
     "execution_count": 112,
     "metadata": {},
     "output_type": "execute_result"
    }
   ],
   "source": [
    "policy.groupby('EnrollYear').mean()"
   ]
  },
  {
   "cell_type": "code",
   "execution_count": 111,
   "metadata": {
    "collapsed": true
   },
   "outputs": [
    {
     "data": {
      "text/plain": [
       "<matplotlib.text.Text at 0x1240b9a58>"
      ]
     },
     "execution_count": 111,
     "metadata": {},
     "output_type": "execute_result"
    },
    {
     "data": {
      "image/png": "[encoded data removed]",
      "text/plain": [
       "<matplotlib.figure.Figure at 0x1240b8208>"
      ]
     },
     "metadata": {},
     "output_type": "display_data"
    }
   ],
   "source": [
    "policy.EnrollWeekday.hist()\n",
    "plt.xlabel('Weekday of Enrollment')\n",
    "plt.ylabel('Frequency')"
   ]
  },
  {
   "cell_type": "code",
   "execution_count": 123,
   "metadata": {
    "collapsed": true
   },
   "outputs": [],
   "source": [
    "df['CancelDate'] = pd.to_datetime(df['CancelDate'])"
   ]
  },
  {
   "cell_type": "code",
   "execution_count": 125,
   "metadata": {
    "collapsed": true
   },
   "outputs": [],
   "source": [
    "df['CancelDate'] = df['CancelDate'].fillna(0)"
   ]
  },
  {
   "cell_type": "code",
   "execution_count": 127,
   "metadata": {
    "collapsed": true
   },
   "outputs": [],
   "source": [
    "df['Churn'] = np.where(df['CancelDate'] == '1970-01-01', 0, 1)"
   ]
  },
  {
   "cell_type": "code",
   "execution_count": 131,
   "metadata": {
    "collapsed": true
   },
   "outputs": [
    {
     "data": {
      "text/html": [
       "<div>\n",
       "<style>\n",
       "    .dataframe thead tr:only-child th {\n",
       "        text-align: right;\n",
       "    }\n",
       "\n",
       "    .dataframe thead th {\n",
       "        text-align: left;\n",
       "    }\n",
       "\n",
       "    .dataframe tbody tr th {\n",
       "        vertical-align: top;\n",
       "    }\n",
       "</style>\n",
       "<table border=\"1\" class=\"dataframe\">\n",
       "  <thead>\n",
       "    <tr style=\"text-align: right;\">\n",
       "      <th></th>\n",
       "      <th>CancelDate</th>\n",
       "      <th>Churn</th>\n",
       "    </tr>\n",
       "  </thead>\n",
       "  <tbody>\n",
       "    <tr>\n",
       "      <th>0</th>\n",
       "      <td>1970-01-01</td>\n",
       "      <td>0</td>\n",
       "    </tr>\n",
       "    <tr>\n",
       "      <th>1</th>\n",
       "      <td>1970-01-01</td>\n",
       "      <td>0</td>\n",
       "    </tr>\n",
       "    <tr>\n",
       "      <th>2</th>\n",
       "      <td>1970-01-01</td>\n",
       "      <td>0</td>\n",
       "    </tr>\n",
       "    <tr>\n",
       "      <th>3</th>\n",
       "      <td>1970-01-01</td>\n",
       "      <td>0</td>\n",
       "    </tr>\n",
       "    <tr>\n",
       "      <th>4</th>\n",
       "      <td>1970-01-01</td>\n",
       "      <td>0</td>\n",
       "    </tr>\n",
       "    <tr>\n",
       "      <th>5</th>\n",
       "      <td>2016-05-24</td>\n",
       "      <td>1</td>\n",
       "    </tr>\n",
       "    <tr>\n",
       "      <th>6</th>\n",
       "      <td>1970-01-01</td>\n",
       "      <td>0</td>\n",
       "    </tr>\n",
       "    <tr>\n",
       "      <th>7</th>\n",
       "      <td>1970-01-01</td>\n",
       "      <td>0</td>\n",
       "    </tr>\n",
       "    <tr>\n",
       "      <th>8</th>\n",
       "      <td>1970-01-01</td>\n",
       "      <td>0</td>\n",
       "    </tr>\n",
       "    <tr>\n",
       "      <th>9</th>\n",
       "      <td>1970-01-01</td>\n",
       "      <td>0</td>\n",
       "    </tr>\n",
       "    <tr>\n",
       "      <th>10</th>\n",
       "      <td>1970-01-01</td>\n",
       "      <td>0</td>\n",
       "    </tr>\n",
       "    <tr>\n",
       "      <th>11</th>\n",
       "      <td>1970-01-01</td>\n",
       "      <td>0</td>\n",
       "    </tr>\n",
       "    <tr>\n",
       "      <th>12</th>\n",
       "      <td>1970-01-01</td>\n",
       "      <td>0</td>\n",
       "    </tr>\n",
       "    <tr>\n",
       "      <th>13</th>\n",
       "      <td>1970-01-01</td>\n",
       "      <td>0</td>\n",
       "    </tr>\n",
       "    <tr>\n",
       "      <th>14</th>\n",
       "      <td>1970-01-01</td>\n",
       "      <td>0</td>\n",
       "    </tr>\n",
       "    <tr>\n",
       "      <th>15</th>\n",
       "      <td>1970-01-01</td>\n",
       "      <td>0</td>\n",
       "    </tr>\n",
       "    <tr>\n",
       "      <th>16</th>\n",
       "      <td>1970-01-01</td>\n",
       "      <td>0</td>\n",
       "    </tr>\n",
       "    <tr>\n",
       "      <th>17</th>\n",
       "      <td>1970-01-01</td>\n",
       "      <td>0</td>\n",
       "    </tr>\n",
       "    <tr>\n",
       "      <th>18</th>\n",
       "      <td>1970-01-01</td>\n",
       "      <td>0</td>\n",
       "    </tr>\n",
       "    <tr>\n",
       "      <th>19</th>\n",
       "      <td>1970-01-01</td>\n",
       "      <td>0</td>\n",
       "    </tr>\n",
       "    <tr>\n",
       "      <th>20</th>\n",
       "      <td>1970-01-01</td>\n",
       "      <td>0</td>\n",
       "    </tr>\n",
       "    <tr>\n",
       "      <th>21</th>\n",
       "      <td>2016-08-15</td>\n",
       "      <td>1</td>\n",
       "    </tr>\n",
       "    <tr>\n",
       "      <th>22</th>\n",
       "      <td>2016-08-15</td>\n",
       "      <td>1</td>\n",
       "    </tr>\n",
       "    <tr>\n",
       "      <th>23</th>\n",
       "      <td>2016-03-01</td>\n",
       "      <td>1</td>\n",
       "    </tr>\n",
       "    <tr>\n",
       "      <th>24</th>\n",
       "      <td>1970-01-01</td>\n",
       "      <td>0</td>\n",
       "    </tr>\n",
       "    <tr>\n",
       "      <th>25</th>\n",
       "      <td>1970-01-01</td>\n",
       "      <td>0</td>\n",
       "    </tr>\n",
       "    <tr>\n",
       "      <th>26</th>\n",
       "      <td>1970-01-01</td>\n",
       "      <td>0</td>\n",
       "    </tr>\n",
       "    <tr>\n",
       "      <th>27</th>\n",
       "      <td>1970-01-01</td>\n",
       "      <td>0</td>\n",
       "    </tr>\n",
       "    <tr>\n",
       "      <th>28</th>\n",
       "      <td>1970-01-01</td>\n",
       "      <td>0</td>\n",
       "    </tr>\n",
       "    <tr>\n",
       "      <th>29</th>\n",
       "      <td>1970-01-01</td>\n",
       "      <td>0</td>\n",
       "    </tr>\n",
       "    <tr>\n",
       "      <th>...</th>\n",
       "      <td>...</td>\n",
       "      <td>...</td>\n",
       "    </tr>\n",
       "    <tr>\n",
       "      <th>99970</th>\n",
       "      <td>1970-01-01</td>\n",
       "      <td>0</td>\n",
       "    </tr>\n",
       "    <tr>\n",
       "      <th>99971</th>\n",
       "      <td>1970-01-01</td>\n",
       "      <td>0</td>\n",
       "    </tr>\n",
       "    <tr>\n",
       "      <th>99972</th>\n",
       "      <td>1970-01-01</td>\n",
       "      <td>0</td>\n",
       "    </tr>\n",
       "    <tr>\n",
       "      <th>99973</th>\n",
       "      <td>1970-01-01</td>\n",
       "      <td>0</td>\n",
       "    </tr>\n",
       "    <tr>\n",
       "      <th>99974</th>\n",
       "      <td>1970-01-01</td>\n",
       "      <td>0</td>\n",
       "    </tr>\n",
       "    <tr>\n",
       "      <th>99975</th>\n",
       "      <td>1970-01-01</td>\n",
       "      <td>0</td>\n",
       "    </tr>\n",
       "    <tr>\n",
       "      <th>99976</th>\n",
       "      <td>1970-01-01</td>\n",
       "      <td>0</td>\n",
       "    </tr>\n",
       "    <tr>\n",
       "      <th>99977</th>\n",
       "      <td>1970-01-01</td>\n",
       "      <td>0</td>\n",
       "    </tr>\n",
       "    <tr>\n",
       "      <th>99978</th>\n",
       "      <td>1970-01-01</td>\n",
       "      <td>0</td>\n",
       "    </tr>\n",
       "    <tr>\n",
       "      <th>99979</th>\n",
       "      <td>1970-01-01</td>\n",
       "      <td>0</td>\n",
       "    </tr>\n",
       "    <tr>\n",
       "      <th>99980</th>\n",
       "      <td>1970-01-01</td>\n",
       "      <td>0</td>\n",
       "    </tr>\n",
       "    <tr>\n",
       "      <th>99981</th>\n",
       "      <td>2016-12-09</td>\n",
       "      <td>1</td>\n",
       "    </tr>\n",
       "    <tr>\n",
       "      <th>99982</th>\n",
       "      <td>1970-01-01</td>\n",
       "      <td>0</td>\n",
       "    </tr>\n",
       "    <tr>\n",
       "      <th>99983</th>\n",
       "      <td>1970-01-01</td>\n",
       "      <td>0</td>\n",
       "    </tr>\n",
       "    <tr>\n",
       "      <th>99984</th>\n",
       "      <td>1970-01-01</td>\n",
       "      <td>0</td>\n",
       "    </tr>\n",
       "    <tr>\n",
       "      <th>99985</th>\n",
       "      <td>2016-07-28</td>\n",
       "      <td>1</td>\n",
       "    </tr>\n",
       "    <tr>\n",
       "      <th>99986</th>\n",
       "      <td>1970-01-01</td>\n",
       "      <td>0</td>\n",
       "    </tr>\n",
       "    <tr>\n",
       "      <th>99987</th>\n",
       "      <td>1970-01-01</td>\n",
       "      <td>0</td>\n",
       "    </tr>\n",
       "    <tr>\n",
       "      <th>99988</th>\n",
       "      <td>1970-01-01</td>\n",
       "      <td>0</td>\n",
       "    </tr>\n",
       "    <tr>\n",
       "      <th>99989</th>\n",
       "      <td>2016-11-06</td>\n",
       "      <td>1</td>\n",
       "    </tr>\n",
       "    <tr>\n",
       "      <th>99990</th>\n",
       "      <td>1970-01-01</td>\n",
       "      <td>0</td>\n",
       "    </tr>\n",
       "    <tr>\n",
       "      <th>99991</th>\n",
       "      <td>1970-01-01</td>\n",
       "      <td>0</td>\n",
       "    </tr>\n",
       "    <tr>\n",
       "      <th>99992</th>\n",
       "      <td>1970-01-01</td>\n",
       "      <td>0</td>\n",
       "    </tr>\n",
       "    <tr>\n",
       "      <th>99993</th>\n",
       "      <td>1970-01-01</td>\n",
       "      <td>0</td>\n",
       "    </tr>\n",
       "    <tr>\n",
       "      <th>99994</th>\n",
       "      <td>2016-07-09</td>\n",
       "      <td>1</td>\n",
       "    </tr>\n",
       "    <tr>\n",
       "      <th>99995</th>\n",
       "      <td>1970-01-01</td>\n",
       "      <td>0</td>\n",
       "    </tr>\n",
       "    <tr>\n",
       "      <th>99996</th>\n",
       "      <td>1970-01-01</td>\n",
       "      <td>0</td>\n",
       "    </tr>\n",
       "    <tr>\n",
       "      <th>99997</th>\n",
       "      <td>1970-01-01</td>\n",
       "      <td>0</td>\n",
       "    </tr>\n",
       "    <tr>\n",
       "      <th>99998</th>\n",
       "      <td>2016-10-27</td>\n",
       "      <td>1</td>\n",
       "    </tr>\n",
       "    <tr>\n",
       "      <th>99999</th>\n",
       "      <td>1970-01-01</td>\n",
       "      <td>0</td>\n",
       "    </tr>\n",
       "  </tbody>\n",
       "</table>\n",
       "<p>100000 rows × 2 columns</p>\n",
       "</div>"
      ],
      "text/plain": [
       "      CancelDate  Churn\n",
       "0     1970-01-01      0\n",
       "1     1970-01-01      0\n",
       "2     1970-01-01      0\n",
       "3     1970-01-01      0\n",
       "4     1970-01-01      0\n",
       "5     2016-05-24      1\n",
       "6     1970-01-01      0\n",
       "7     1970-01-01      0\n",
       "8     1970-01-01      0\n",
       "9     1970-01-01      0\n",
       "10    1970-01-01      0\n",
       "11    1970-01-01      0\n",
       "12    1970-01-01      0\n",
       "13    1970-01-01      0\n",
       "14    1970-01-01      0\n",
       "15    1970-01-01      0\n",
       "16    1970-01-01      0\n",
       "17    1970-01-01      0\n",
       "18    1970-01-01      0\n",
       "19    1970-01-01      0\n",
       "20    1970-01-01      0\n",
       "21    2016-08-15      1\n",
       "22    2016-08-15      1\n",
       "23    2016-03-01      1\n",
       "24    1970-01-01      0\n",
       "25    1970-01-01      0\n",
       "26    1970-01-01      0\n",
       "27    1970-01-01      0\n",
       "28    1970-01-01      0\n",
       "29    1970-01-01      0\n",
       "...          ...    ...\n",
       "99970 1970-01-01      0\n",
       "99971 1970-01-01      0\n",
       "99972 1970-01-01      0\n",
       "99973 1970-01-01      0\n",
       "99974 1970-01-01      0\n",
       "99975 1970-01-01      0\n",
       "99976 1970-01-01      0\n",
       "99977 1970-01-01      0\n",
       "99978 1970-01-01      0\n",
       "99979 1970-01-01      0\n",
       "99980 1970-01-01      0\n",
       "99981 2016-12-09      1\n",
       "99982 1970-01-01      0\n",
       "99983 1970-01-01      0\n",
       "99984 1970-01-01      0\n",
       "99985 2016-07-28      1\n",
       "99986 1970-01-01      0\n",
       "99987 1970-01-01      0\n",
       "99988 1970-01-01      0\n",
       "99989 2016-11-06      1\n",
       "99990 1970-01-01      0\n",
       "99991 1970-01-01      0\n",
       "99992 1970-01-01      0\n",
       "99993 1970-01-01      0\n",
       "99994 2016-07-09      1\n",
       "99995 1970-01-01      0\n",
       "99996 1970-01-01      0\n",
       "99997 1970-01-01      0\n",
       "99998 2016-10-27      1\n",
       "99999 1970-01-01      0\n",
       "\n",
       "[100000 rows x 2 columns]"
      ]
     },
     "execution_count": 131,
     "metadata": {},
     "output_type": "execute_result"
    }
   ],
   "source": [
    "df[['CancelDate', 'Churn']]"
   ]
  },
  {
   "cell_type": "code",
   "execution_count": null,
   "metadata": {
    "collapsed": true
   },
   "outputs": [],
   "source": []
  }
 ],
 "metadata": {
  "kernelspec": {
   "display_name": "Python 3",
   "language": "python",
   "name": "python3"
  },
  "language_info": {
   "codemirror_mode": {
    "name": "ipython",
    "version": 3
   },
   "file_extension": ".py",
   "mimetype": "text/x-python",
   "name": "python",
   "nbconvert_exporter": "python",
   "pygments_lexer": "ipython3",
   "version": "3.6.1"
  }
 },
 "nbformat": 4,
 "nbformat_minor": 2
}
